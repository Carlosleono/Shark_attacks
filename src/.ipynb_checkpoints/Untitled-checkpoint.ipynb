{
 "cells": [
  {
   "cell_type": "code",
   "execution_count": 1,
   "id": "8a0f3bcc",
   "metadata": {},
   "outputs": [],
   "source": [
    "def tipe(x):\n",
    "    if x['Type'] == 'Boating' | x['Type'] == 'Boat' |x['Type'] == 'Unprovoked' |x['Type'] == 'Invalid' |x['Type'] == 'Questionable' |x['Type'] == 'Sea Disaster':\n",
    "        return 'Unprovoked'\n",
    "    else:\n",
    "        return 'Provoked'"
   ]
  }
 ],
 "metadata": {
  "kernelspec": {
   "display_name": "ironhack",
   "language": "python",
   "name": "ironhack"
  },
  "language_info": {
   "codemirror_mode": {
    "name": "ipython",
    "version": 3
   },
   "file_extension": ".py",
   "mimetype": "text/x-python",
   "name": "python",
   "nbconvert_exporter": "python",
   "pygments_lexer": "ipython3",
   "version": "3.8.8"
  }
 },
 "nbformat": 4,
 "nbformat_minor": 5
}
